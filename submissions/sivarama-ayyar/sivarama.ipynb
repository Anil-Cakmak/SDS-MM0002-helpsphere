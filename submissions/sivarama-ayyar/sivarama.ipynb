{
 "cells": [
  {
   "cell_type": "code",
   "id": "initial_id",
   "metadata": {
    "collapsed": true,
    "ExecuteTime": {
     "end_time": "2025-01-22T14:20:52.196852Z",
     "start_time": "2025-01-22T14:20:52.194150Z"
    }
   },
   "source": [
    "# # Document loading, retrieval methods and text splitting\n",
    "# Follow readme to install virtual env and packages.\n",
    "\n",
    "# # Pull the model first\n",
    "# !ollama pull nomic-embed-text\n",
    "\n"
   ],
   "outputs": [],
   "execution_count": 14
  },
  {
   "metadata": {
    "ExecuteTime": {
     "end_time": "2025-01-22T14:21:13.215010Z",
     "start_time": "2025-01-22T14:21:13.210742Z"
    }
   },
   "cell_type": "code",
   "source": [
    "#Imports\n",
    "import os\n",
    "import gradio as gr\n",
    "from langchain.document_loaders import TextLoader, DirectoryLoader\n",
    "from langchain_text_splitters import CharacterTextSplitter\n",
    "from langchain_chroma import Chroma\n",
    "from langchain_ollama import OllamaEmbeddings\n",
    "from langchain_ollama import ChatOllama"
   ],
   "id": "4b6133161e9c210",
   "outputs": [],
   "execution_count": 15
  },
  {
   "metadata": {
    "ExecuteTime": {
     "end_time": "2025-01-22T14:21:17.980885Z",
     "start_time": "2025-01-22T14:21:17.975851Z"
    }
   },
   "cell_type": "code",
   "source": [
    "# Load Company Files\n",
    "loader = DirectoryLoader(\"../../company-files/\", glob=\"./*.txt\",   loader_cls=TextLoader)\n",
    "# Load the document from the TXT file\n",
    "documents = loader.load()\n",
    "\n",
    "# Print the loaded document\n",
    "print(documents)"
   ],
   "id": "16987d9209cf3f7f",
   "outputs": [
    {
     "name": "stdout",
     "output_type": "stream",
     "text": [
      "[Document(metadata={'source': '../../company-files/shipping.txt'}, page_content='# TechStyle Global - Shipping Policy\\n\\n## Delivery Options\\n\\n### Standard Shipping\\n- Delivery Time: 3-5 business days\\n- Cost: Free for orders over $50\\n- Orders under $50: $4.99\\n- Available in: United States and Canada\\n- Tracking provided via email\\n\\n### Express Shipping\\n- Delivery Time: 1-2 business days\\n- Cost: $9.99\\n- Free for TechStyle Plus members\\n- Available in: United States and Canada\\n- Real-time tracking via app and email\\n\\n### International Shipping\\n- Delivery Time: 7-14 business days\\n- Cost: Calculated based on:\\n  - Destination country\\n  - Package weight\\n  - Package dimensions\\n- Available in: 50+ countries\\n- Tracking provided where available\\n\\n## Order Processing\\n\\n### Processing Times\\n- In-stock items: 1-2 business days\\n- Custom orders: 3-5 business days\\n- Pre-orders: As specified on product page\\n- Business days are Monday-Friday, excluding holidays\\n\\n### Cut-off Times\\n- Orders placed before 2 PM EST: Same-day processing\\n- Orders placed after 2 PM EST: Next business day processing\\n- Express orders before 11 AM EST: Same-day shipping\\n\\n## Shipping Restrictions\\n\\n### Restricted Items\\n- Batteries and power banks\\n- Aerosol products\\n- Certain electronics\\n- Please check specific product pages for restrictions\\n\\n### Restricted Locations\\n- Some PO boxes\\n- APO/FPO addresses\\n- Certain international locations\\n- Please contact support for detailed information\\n\\n## Tracking Your Order\\n\\n### Tracking Information\\n- Provided via email once order ships\\n- Available in your TechStyle account\\n- Updates at major shipping milestones\\n- Live chat support for tracking questions\\n\\n### Lost Packages\\n- Domestic: Investigation after 5 business days\\n- International: Investigation after 14 business days\\n- Claims must be filed within 30 days of shipment\\n\\n## Special Circumstances\\n\\n### Weather Delays\\n- Delivery times may be affected by severe weather\\n- Notifications sent for significant delays\\n- Safety of packages prioritized during extreme conditions\\n\\n### Holiday Shipping\\n- Extended processing times during peak seasons\\n- Holiday cut-off dates posted in October\\n- Special holiday shipping rates may apply\\n\\n## International Orders\\n\\n### Customs & Duties\\n- Import duties not included in shipping cost\\n- Buyer responsible for customs fees\\n- Local taxes may apply\\n- Delivery times may vary due to customs\\n\\n### International Returns\\n- Return shipping labels provided for defective items\\n- Customer pays return shipping for non-defective items\\n- 45-day return window for international orders\\n\\n## TechStyle Plus Benefits\\n\\n### Member Privileges\\n- Free express shipping on all orders\\n- Priority processing\\n- Exclusive holiday shipping rates\\n- Early access to pre-orders\\n\\n### Premium Support\\n- Dedicated shipping support line\\n- Priority claim processing\\n- Special handling requests accepted\\n\\n## Contact Information\\n\\n### Shipping Support\\n- Email: shipping@techstyle.com\\n- Phone: 1-800-TECH-STYLE (Option 2)\\n- Live Chat: Available 24/7\\n- Response Time: Within 24 hours\\n\\n### Claims Department\\n- Email: claims@techstyle.com\\n- Phone: 1-800-TECH-STYLE (Option 3)\\n- Claim Forms: Available in account dashboard\\n\\n## Policy Updates\\n- Last Updated: December 2024\\n- Changes will be notified via email\\n- Policy updates posted 30 days in advance\\n- Historic policies available upon request'), Document(metadata={'source': '../../company-files/products.txt'}, page_content='# TechStyle Global - Product Catalog\\n\\n## Consumer Electronics\\n\\n### Smartphones & Accessories\\n- TechStyle Smartphone Stand Pro\\n  - Price: $29.99\\n  - Adjustable aluminum stand\\n  - Compatible with all smartphones\\n  - Colors: Silver, Black, Rose Gold\\n\\n- Premium Screen Protector Set\\n  - Price: $19.99\\n  - 9H hardness tempered glass\\n  - Oleophobic coating\\n  - Pack of 3\\n\\n- Wireless Charging Pad\\n  - Price: $39.99\\n  - 15W fast charging\\n  - LED charging indicator\\n  - Compatible with Qi devices\\n\\n### Laptops & Computing\\n- PowerBook Pro 15\"\\n  - Price: $1299.99\\n  - Intel i7 processor\\n  - 16GB RAM\\n  - 512GB SSD\\n  - NVIDIA Graphics\\n\\n- UltraBook Air 13\"\\n  - Price: $899.99\\n  - AMD Ryzen 5\\n  - 8GB RAM\\n  - 256GB SSD\\n  - 18-hour battery life\\n\\n- Laptop Accessories Bundle\\n  - Price: $79.99\\n  - Wireless mouse\\n  - Laptop sleeve\\n  - USB-C hub\\n  - Cleaning kit\\n\\n## Smart Home Devices\\n\\n### Security\\n- SmartCam Pro\\n  - Price: $149.99\\n  - 2K resolution\\n  - Night vision\\n  - Two-way audio\\n  - Cloud storage included\\n\\n- Smart Door Lock\\n  - Price: $199.99\\n  - Fingerprint sensor\\n  - PIN code entry\\n  - Smartphone control\\n  - Battery backup\\n\\n### Home Automation\\n- Smart Light Starter Kit\\n  - Price: $89.99\\n  - 4 smart bulbs\\n  - Hub included\\n  - Voice control\\n  - 16 million colors\\n\\n- Smart Thermostat\\n  - Price: $129.99\\n  - Energy saving\\n  - Schedule programming\\n  - Remote control\\n  - Usage analytics\\n\\n## Wearable Technology\\n\\n### Fitness Trackers\\n- FitStyle Pro\\n  - Price: $149.99\\n  - Heart rate monitoring\\n  - Sleep tracking\\n  - 7-day battery life\\n  - Water resistant\\n\\n- SportBand Lite\\n  - Price: $79.99\\n  - Step counting\\n  - Basic sleep tracking\\n  - 14-day battery life\\n  - 5 color options\\n\\n### Smartwatches\\n- TechWatch Premium\\n  - Price: $299.99\\n  - AMOLED display\\n  - ECG monitoring\\n  - GPS\\n  - 50+ sport modes\\n\\n- TechWatch Lite\\n  - Price: $199.99\\n  - LCD display\\n  - Heart rate monitoring\\n  - Basic fitness tracking\\n  - 2-week battery life\\n\\n## TechStyle Basics (Private Label)\\n\\n### Cables & Chargers\\n- Premium USB-C Cable\\n  - Price: $14.99\\n  - 6ft length\\n  - Braided nylon\\n  - Fast charging\\n  - Colors: Black, White\\n\\n- Power Bank 10000mAh\\n  - Price: $34.99\\n  - Dual USB ports\\n  - Fast charging\\n  - LED indicator\\n  - Compact design\\n\\n### Audio\\n- TechStyle Wireless Earbuds\\n  - Price: $69.99\\n  - 24-hour battery\\n  - Touch controls\\n  - Water resistant\\n  - Noise isolation\\n\\n- TechStyle Over-Ear Headphones\\n  - Price: $89.99\\n  - Bluetooth 5.0\\n  - 30-hour battery\\n  - Foldable design\\n  - Carrying case included\\n\\n## Special Offers\\n\\n### TechStyle Plus Member Benefits\\n- 10% discount on all products\\n- Free express shipping\\n- Early access to new products\\n- Extended warranty\\n- Priority customer support\\n\\n### Bundles\\n- Work From Home Bundle\\n  - Price: $1499.99\\n  - UltraBook Air 13\"\\n  - Wireless Mouse\\n  - External Monitor\\n  - Desk Stand\\n  - Webcam\\n\\n- Smart Home Starter Bundle\\n  - Price: $299.99\\n  - SmartCam Pro\\n  - Smart Light Kit\\n  - Smart Plug (2-pack)\\n  - Voice Assistant\\n\\n### Warranty Information\\n- All products include standard 1-year warranty\\n- TechStyle Plus members get additional 1-year warranty\\n- 30-day money-back guarantee\\n- Free technical support\\n\\n### Shipping Options\\n- Standard Shipping (3-5 days): Free over $50\\n- Express Shipping (1-2 days): $9.99\\n- International Shipping: Available to select countries\\n- TechStyle Plus members get free express shipping'), Document(metadata={'source': '../../company-files/company.txt'}, page_content=\"# TechStyle Global - Company Overview\\n\\nFounded in 2015, TechStyle Global is a leading e-commerce marketplace specializing in consumer electronics, fashion, and lifestyle products. Our platform connects millions of customers worldwide with quality products at competitive prices.\\n\\n## Our Story\\nTechStyle began as a small online electronics store in San Francisco, founded by tech entrepreneurs Sarah Chen and Marcus Rodriguez. Their vision was to create a seamless shopping experience that bridges the gap between technology and lifestyle products. Within five years, we expanded globally, now serving customers in over 50 countries.\\n\\n## Mission Statement\\nTo provide accessible, innovative, and sustainable shopping solutions that enhance people's daily lives through technology and style.\\n\\n## Core Values\\n- Customer First: Every decision we make starts with our customers\\n- Innovation: Constantly improving our platform and services\\n- Sustainability: Committed to reducing our environmental impact\\n- Quality: Rigorous standards for all products on our platform\\n- Diversity: Embracing global perspectives and inclusive practices\\n\\n## Our Presence\\n- Headquarters: San Francisco, California\\n- Regional Offices: London, Singapore, Sydney, Toronto\\n- Distribution Centers: United States, United Kingdom, Germany, Japan, Australia\\n- Customer Service: 24/7 support in 12 languages\\n\\n## Key Products & Services\\n- Consumer Electronics: Smartphones, laptops, smart home devices\\n- Fashion Tech: Wearables, smart accessories\\n- Lifestyle Products: Home automation, fitness tech\\n- TechStyle Basics: Our private label for affordable tech accessories\\n- TechStyle Plus: Premium membership program with exclusive benefits\\n\\n## Customer Support\\n- 24/7 Live Chat Support\\n- Email: support@techstyle.com\\n- Phone: 1-800-TECH-STYLE\\n- Social Media: @TechStyleGlobal\\n\\n## Company Statistics\\n- 15+ million active customers\\n- 100,000+ products available\\n- 2,000+ brand partners\\n- 99% order fulfillment rate\\n- 4.8/5 average customer satisfaction\\n\\n## Awards & Recognition\\n- 2023 Best E-commerce Platform - Tech Retail Awards\\n- 2022 Sustainability Leadership Award\\n- 2021 Customer Service Excellence\\n- 2020 Best Online Shopping Experience\\n\\n## Community Initiatives\\n- TechStyle Education: Free tech literacy programs\\n- Green Tech Initiative: Environmental sustainability program\\n- Future Innovators: Supporting tech startups\\n- Community Tech Hub: Local technology education centers\\n\\nContact Information:\\nTechStyle Global, Inc.\\n123 Innovation Drive\\nSan Francisco, CA 94105\\nUnited States\\n\\nGeneral Inquiries: info@techstyle.com\\nBusiness Partnerships: partners@techstyle.com\\nPress: media@techstyle.com\")]\n"
     ]
    }
   ],
   "execution_count": 16
  },
  {
   "metadata": {
    "ExecuteTime": {
     "end_time": "2025-01-22T14:21:25.529762Z",
     "start_time": "2025-01-22T14:21:25.526663Z"
    }
   },
   "cell_type": "code",
   "source": [
    "text_splitter = CharacterTextSplitter(chunk_size=1000, chunk_overlap=200)\n",
    "chunks = text_splitter.split_documents(documents)"
   ],
   "id": "b7939f95ae3a6107",
   "outputs": [],
   "execution_count": 18
  },
  {
   "metadata": {
    "ExecuteTime": {
     "end_time": "2025-01-22T19:35:01.512490Z",
     "start_time": "2025-01-22T19:35:00.946059Z"
    }
   },
   "cell_type": "code",
   "source": [
    "# Put the chunks of data into a Vector Store that associates a Vector Embedding with each chunk\n",
    "# Chroma is a popular open source Vector Database based on SQLLite\n",
    "DB_NAME = \"vector_db\"\n",
    "\n",
    "embeddings = OllamaEmbeddings(model=\"nomic-embed-text\")\n",
    "\n",
    "# Delete if already exists\n",
    "\n",
    "if os.path.exists(DB_NAME):\n",
    "    Chroma(persist_directory=DB_NAME, embedding_function=embeddings).delete_collection()\n",
    "\n",
    "# Create vectorstore\n",
    "\n",
    "vectorstore = Chroma.from_documents(documents=chunks, embedding=embeddings, persist_directory=DB_NAME)\n",
    "print(f\"Vectorstore created with {vectorstore._collection.count()} documents\")"
   ],
   "id": "8bb1f66711b39c31",
   "outputs": [
    {
     "name": "stdout",
     "output_type": "stream",
     "text": [
      "Vectorstore created with 13 documents\n"
     ]
    }
   ],
   "execution_count": 83
  },
  {
   "metadata": {
    "ExecuteTime": {
     "end_time": "2025-01-22T14:21:44.880355Z",
     "start_time": "2025-01-22T14:21:44.817685Z"
    }
   },
   "cell_type": "code",
   "source": [
    "#run a quick test - should return a list of documents = 4\n",
    "question = \"When was TechStyle Global founded?\"\n",
    "docs = vectorstore.similarity_search(question)\n",
    "len(docs)"
   ],
   "id": "6ac6ba6b1e99b0b2",
   "outputs": [
    {
     "data": {
      "text/plain": [
       "4"
      ]
     },
     "execution_count": 20,
     "metadata": {},
     "output_type": "execute_result"
    }
   ],
   "execution_count": 20
  },
  {
   "metadata": {
    "ExecuteTime": {
     "end_time": "2025-01-22T19:34:56.008851Z",
     "start_time": "2025-01-22T19:34:55.961757Z"
    }
   },
   "cell_type": "code",
   "source": [
    "# create a new Chat with Ollama\n",
    "from langchain.memory import ConversationBufferMemory\n",
    "from langchain.chains import ConversationalRetrievalChain\n",
    "MODEL = \"llama3.2:latest\"\n",
    "llm = ChatOllama(temperature=0.7, model=MODEL)\n",
    "\n",
    "# set up the conversation memory for the chat\n",
    "memory = ConversationBufferMemory(memory_key='chat_history', return_messages=True)\n",
    "\n",
    "# the retriever is an abstraction over the VectorStore that will be used during RAG\n",
    "retriever = vectorstore.as_retriever()\n",
    "\n",
    "# putting it together: set up the conversation chain with the GPT 3.5 LLM, the vector store and memory\n",
    "conversation_chain = ConversationalRetrievalChain.from_llm(llm=llm, retriever=retriever, memory=memory)"
   ],
   "id": "f16f1030e5084cf5",
   "outputs": [],
   "execution_count": 82
  },
  {
   "metadata": {
    "ExecuteTime": {
     "end_time": "2025-01-22T15:12:43.236747Z",
     "start_time": "2025-01-22T15:12:36.946087Z"
    }
   },
   "cell_type": "code",
   "source": [
    "# Let's try a simple question\n",
    "\n",
    "query = \"What is the price of Premium Screen Protector Set?\"\n",
    "result = conversation_chain.invoke({\"question\": query})\n",
    "print(result[\"answer\"])"
   ],
   "id": "a01ab894665263a1",
   "outputs": [
    {
     "name": "stdout",
     "output_type": "stream",
     "text": [
      "The price of the Premium Screen Protector Set is $19.99.\n"
     ]
    }
   ],
   "execution_count": 43
  },
  {
   "metadata": {
    "ExecuteTime": {
     "end_time": "2025-01-22T15:12:47.251747Z",
     "start_time": "2025-01-22T15:12:47.248126Z"
    }
   },
   "cell_type": "code",
   "source": [
    "def chat(question, history):\n",
    "    result = conversation_chain.invoke({\"question\": question})\n",
    "    return result[\"answer\"]"
   ],
   "id": "9a352a9d1616d5b9",
   "outputs": [],
   "execution_count": 45
  },
  {
   "metadata": {
    "ExecuteTime": {
     "end_time": "2025-01-22T15:12:52.267998Z",
     "start_time": "2025-01-22T15:12:51.877731Z"
    }
   },
   "cell_type": "code",
   "source": [
    "# And in Gradio:\n",
    "view = gr.ChatInterface(chat, type=\"messages\").launch(inbrowser=True)"
   ],
   "id": "95e2c47f81894253",
   "outputs": [
    {
     "name": "stdout",
     "output_type": "stream",
     "text": [
      "* Running on local URL:  http://127.0.0.1:7863\n",
      "\n",
      "To create a public link, set `share=True` in `launch()`.\n"
     ]
    },
    {
     "data": {
      "text/plain": [
       "<IPython.core.display.HTML object>"
      ],
      "text/html": [
       "<div><iframe src=\"http://127.0.0.1:7863/\" width=\"100%\" height=\"500\" allow=\"autoplay; camera; microphone; clipboard-read; clipboard-write;\" frameborder=\"0\" allowfullscreen></iframe></div>"
      ]
     },
     "metadata": {},
     "output_type": "display_data"
    }
   ],
   "execution_count": 46
  },
  {
   "metadata": {},
   "cell_type": "markdown",
   "source": "### Conversational memory using Langgraph",
   "id": "f69325f9ec10648f"
  },
  {
   "metadata": {
    "ExecuteTime": {
     "end_time": "2025-01-22T20:22:28.406672Z",
     "start_time": "2025-01-22T20:22:28.359124Z"
    }
   },
   "cell_type": "code",
   "source": [
    "# LangGraph for conversational memory as ConversationBufferMemory is deprecated\n",
    "from langgraph.checkpoint.memory import MemorySaver\n",
    "from langgraph.graph import START, MessagesState, StateGraph\n",
    "from langchain_core.messages import HumanMessage\n",
    "from langchain.tools.retriever import create_retriever_tool\n",
    "from langgraph.prebuilt import ToolNode, tools_condition\n",
    "import uuid\n",
    "# Define a new graph\n",
    "graph_builder = StateGraph(state_schema=MessagesState)\n",
    "\n",
    "# Define  ollama chat model\n",
    "OLLAMA_MODEL = \"llama3.2:latest\"\n",
    "llm_model = ChatOllama(temperature=0.7, model=OLLAMA_MODEL)\n",
    "\n",
    "\n",
    "# Create retrieval tool to read from vector store\n",
    "retriever_tool = create_retriever_tool(\n",
    "    vectorstore.as_retriever(),\n",
    "    \"retrieve_my_texts\",\n",
    "    \"Retrieve company texts stored vector store\",\n",
    ")\n",
    "tools = [retriever_tool]\n",
    "llm_with_tools = llm_model.bind_tools(tools)\n",
    "\n",
    "# Define the function that calls the model\n",
    "def chatbot_llm_tools(state: MessagesState):\n",
    "    response = llm_with_tools.invoke(state[\"messages\"])\n",
    "    # We return a list, because this will get added to the existing list\n",
    "    return {\"messages\": response}\n",
    "\n",
    "# Define the two nodes we will cycle between\n",
    "graph_builder.add_node(\"chatbot\",chatbot_llm_tools)\n",
    "tool_node = ToolNode(tools=tools)\n",
    "graph_builder.add_node(\"tools\", tool_node)\n",
    "graph_builder.add_conditional_edges(\n",
    "    \"chatbot\",\n",
    "    tools_condition,\n",
    ")\n",
    "graph_builder.add_edge(\"tools\", \"chatbot\")\n",
    "graph_builder.add_edge(START, \"chatbot\")\n",
    "\n",
    "# Adding memory is straight forward in langgraph!\n",
    "memory = MemorySaver()\n",
    "\n",
    "graph = graph_builder.compile(checkpointer=memory)\n",
    "\n",
    "# The thread id is a unique key that identifies\n",
    "# this particular conversation.\n",
    "# We'll just generate a random uuid here.\n",
    "# This enables a single application to manage conversations among multiple users.\n",
    "thread_id = uuid.uuid4()\n",
    "config = {\"configurable\": {\"thread_id\": thread_id}}\n",
    "\n",
    "def chatbot_langgraph(user_input):\n",
    "    response = graph.invoke({\n",
    "        \"messages\": [HumanMessage(content=user_input)]\n",
    "    }, config)\n",
    "    # Format the response if needed\n",
    "    formatted_response = response['messages'][-1].content\n",
    "    formatted_response = formatted_response.replace(\"\\\\n\", \"\\n\")\n",
    "    return formatted_response"
   ],
   "id": "ef81da73ae3bffcd",
   "outputs": [],
   "execution_count": 133
  },
  {
   "metadata": {
    "ExecuteTime": {
     "end_time": "2025-01-22T20:22:33.936840Z",
     "start_time": "2025-01-22T20:22:30.182923Z"
    }
   },
   "cell_type": "code",
   "source": "chatbot_langgraph(\"what is the price of Premium Screen Protector Set?\")\n",
   "id": "e44c3ae3b1db9fa9",
   "outputs": [
    {
     "data": {
      "text/plain": [
       "'The price of the Premium Screen Protector Set is $19.99.'"
      ]
     },
     "execution_count": 134,
     "metadata": {},
     "output_type": "execute_result"
    }
   ],
   "execution_count": 134
  },
  {
   "metadata": {
    "ExecuteTime": {
     "end_time": "2025-01-22T20:23:49.237926Z",
     "start_time": "2025-01-22T20:23:42.371441Z"
    }
   },
   "cell_type": "code",
   "source": "chatbot_langgraph(\"what is the presence of Tech Style Global?\")\n",
   "id": "5c8e1d6ff16d6688",
   "outputs": [
    {
     "data": {
      "text/plain": [
       "'TechStyle Global is a leading e-commerce marketplace specializing in consumer electronics, fashion, and lifestyle products. The company was founded in 2015 by tech entrepreneurs Sarah Chen and Marcus Rodriguez with the vision of creating a seamless shopping experience that bridges technology and lifestyle products.\\n\\nThe presence of Tech Style Global can be seen on various online platforms, including their official website, social media channels, and marketplaces like Amazon. They offer a wide range of products, from smartphones and laptops to smart home devices and fashion accessories.\\n\\nAs of my knowledge cutoff in 2023, TechStyle Global operates globally with shipping options available in over 50 countries. Their delivery times vary depending on the destination country and product type, but they provide tracking information via email and app for express shipments.'"
      ]
     },
     "execution_count": 136,
     "metadata": {},
     "output_type": "execute_result"
    }
   ],
   "execution_count": 136
  },
  {
   "metadata": {
    "ExecuteTime": {
     "end_time": "2025-01-22T20:22:42.602842Z",
     "start_time": "2025-01-22T20:22:42.226775Z"
    }
   },
   "cell_type": "code",
   "source": "lg_view = gr.ChatInterface(chatbot_langgraph, type=\"messages\").launch(inbrowser=True)\n",
   "id": "9d373d62973ff5ec",
   "outputs": [
    {
     "name": "stdout",
     "output_type": "stream",
     "text": [
      "* Running on local URL:  http://127.0.0.1:7866\n",
      "\n",
      "To create a public link, set `share=True` in `launch()`.\n"
     ]
    },
    {
     "data": {
      "text/plain": [
       "<IPython.core.display.HTML object>"
      ],
      "text/html": [
       "<div><iframe src=\"http://127.0.0.1:7866/\" width=\"100%\" height=\"500\" allow=\"autoplay; camera; microphone; clipboard-read; clipboard-write;\" frameborder=\"0\" allowfullscreen></iframe></div>"
      ]
     },
     "metadata": {},
     "output_type": "display_data"
    }
   ],
   "execution_count": 135
  }
 ],
 "metadata": {
  "kernelspec": {
   "display_name": "Python 3",
   "language": "python",
   "name": "python3"
  },
  "language_info": {
   "codemirror_mode": {
    "name": "ipython",
    "version": 2
   },
   "file_extension": ".py",
   "mimetype": "text/x-python",
   "name": "python",
   "nbconvert_exporter": "python",
   "pygments_lexer": "ipython2",
   "version": "2.7.6"
  }
 },
 "nbformat": 4,
 "nbformat_minor": 5
}
